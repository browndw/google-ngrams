{
 "cells": [
  {
   "cell_type": "code",
   "execution_count": 1,
   "metadata": {},
   "outputs": [],
   "source": [
    "import re\n",
    "import pandas as pd\n",
    "import polars as pl\n",
    "import requests\n",
    "from io import StringIO"
   ]
  },
  {
   "cell_type": "code",
   "execution_count": 17,
   "metadata": {},
   "outputs": [],
   "source": [
    "word_forms = [\"quiz\", \"quizzes\"]"
   ]
  },
  {
   "cell_type": "code",
   "execution_count": 18,
   "metadata": {},
   "outputs": [],
   "source": [
    "word_forms = [re.sub(r'([a-zA-Z0-9])-([a-zA-Z0-9])', r'\\1 - \\2', wf) for wf in word_forms]"
   ]
  },
  {
   "cell_type": "code",
   "execution_count": 19,
   "metadata": {},
   "outputs": [],
   "source": [
    "word_forms = [wf.strip() for wf in word_forms]"
   ]
  },
  {
   "cell_type": "code",
   "execution_count": 20,
   "metadata": {},
   "outputs": [
    {
     "data": {
      "text/plain": [
       "['quiz', 'quizzes']"
      ]
     },
     "execution_count": 20,
     "metadata": {},
     "output_type": "execute_result"
    }
   ],
   "source": [
    "word_forms"
   ]
  },
  {
   "cell_type": "code",
   "execution_count": 21,
   "metadata": {},
   "outputs": [],
   "source": [
    "n = [len(re.findall(r'\\S+', wf)) for wf in word_forms]\n",
    "n = list(set(n))"
   ]
  },
  {
   "cell_type": "code",
   "execution_count": 22,
   "metadata": {},
   "outputs": [
    {
     "data": {
      "text/plain": [
       "[1]"
      ]
     },
     "execution_count": 22,
     "metadata": {},
     "output_type": "execute_result"
    }
   ],
   "source": [
    "n"
   ]
  },
  {
   "cell_type": "code",
   "execution_count": 23,
   "metadata": {},
   "outputs": [],
   "source": [
    "gram = [wf[:2] if n[0] > 1 else wf[:1] for wf in word_forms]"
   ]
  },
  {
   "cell_type": "code",
   "execution_count": 25,
   "metadata": {},
   "outputs": [],
   "source": [
    "gram = list(set([g.lower() for g in gram]))"
   ]
  },
  {
   "cell_type": "code",
   "execution_count": 26,
   "metadata": {},
   "outputs": [
    {
     "data": {
      "text/plain": [
       "['q']"
      ]
     },
     "execution_count": 26,
     "metadata": {},
     "output_type": "execute_result"
    }
   ],
   "source": [
    "gram"
   ]
  },
  {
   "cell_type": "code",
   "execution_count": 47,
   "metadata": {},
   "outputs": [],
   "source": [
    "repo = f\"http://storage.googleapis.com/books/ngrams/books/googlebooks-eng-all-{n[0]}gram-20120701-{gram[0]}.gz\""
   ]
  },
  {
   "cell_type": "code",
   "execution_count": 48,
   "metadata": {},
   "outputs": [
    {
     "data": {
      "text/plain": [
       "'http://storage.googleapis.com/books/ngrams/books/googlebooks-eng-all-1gram-20120701-q.gz'"
      ]
     },
     "execution_count": 48,
     "metadata": {},
     "output_type": "execute_result"
    }
   ],
   "source": [
    "repo"
   ]
  },
  {
   "cell_type": "code",
   "execution_count": 49,
   "metadata": {},
   "outputs": [],
   "source": [
    "word_forms = [re.sub(\n",
    "    r'(\\.|\\?|\\$|\\^|\\)|\\(|\\}|\\{|\\]|\\[|\\*)',\n",
    "    r'\\\\\\1', wf\n",
    "    ) for wf in word_forms]\n",
    "grep_words = \"|\".join([f\"^{wf}$\" for wf in word_forms])"
   ]
  },
  {
   "cell_type": "code",
   "execution_count": 63,
   "metadata": {},
   "outputs": [],
   "source": [
    "test = 'r\"(?i)' + grep_words + '\"'"
   ]
  },
  {
   "cell_type": "code",
   "execution_count": 64,
   "metadata": {},
   "outputs": [
    {
     "data": {
      "text/plain": [
       "'r\"(?i)^quiz$|^quizzes$\"'"
      ]
     },
     "execution_count": 64,
     "metadata": {},
     "output_type": "execute_result"
    }
   ],
   "source": [
    "test"
   ]
  },
  {
   "cell_type": "code",
   "execution_count": 53,
   "metadata": {},
   "outputs": [],
   "source": [
    "df = pl.scan_csv(repo, separator='\\t', has_header=False)"
   ]
  },
  {
   "cell_type": "code",
   "execution_count": 54,
   "metadata": {},
   "outputs": [
    {
     "name": "stderr",
     "output_type": "stream",
     "text": [
      "/var/folders/5y/_jt611y92qv80hh6jwzmjt940000gn/T/ipykernel_29223/3182147272.py:1: PerformanceWarning: Resolving the schema of a LazyFrame is a potentially expensive operation. Use `LazyFrame.collect_schema()` to get the schema without this warning.\n",
      "  df.schema\n"
     ]
    },
    {
     "data": {
      "text/plain": [
       "Schema([('column_1', String),\n",
       "        ('column_2', Int64),\n",
       "        ('column_3', Int64),\n",
       "        ('column_4', Int64)])"
      ]
     },
     "execution_count": 54,
     "metadata": {},
     "output_type": "execute_result"
    }
   ],
   "source": [
    "df.schema"
   ]
  },
  {
   "cell_type": "code",
   "execution_count": 68,
   "metadata": {},
   "outputs": [],
   "source": [
    "filtered_df = df.filter(pl.col(\"column_1\").str.contains(r\"(?i)\" + grep_words))"
   ]
  },
  {
   "cell_type": "code",
   "execution_count": 69,
   "metadata": {},
   "outputs": [],
   "source": [
    "result = filtered_df.collect()"
   ]
  },
  {
   "cell_type": "code",
   "execution_count": 70,
   "metadata": {},
   "outputs": [
    {
     "data": {
      "text/html": [
       "<div><style>\n",
       ".dataframe > thead > tr,\n",
       ".dataframe > tbody > tr {\n",
       "  text-align: right;\n",
       "  white-space: pre-wrap;\n",
       "}\n",
       "</style>\n",
       "<small>shape: (1_113, 4)</small><table border=\"1\" class=\"dataframe\"><thead><tr><th>column_1</th><th>column_2</th><th>column_3</th><th>column_4</th></tr><tr><td>str</td><td>i64</td><td>i64</td><td>i64</td></tr></thead><tbody><tr><td>&quot;quizzes&quot;</td><td>1515</td><td>1</td><td>1</td></tr><tr><td>&quot;quizzes&quot;</td><td>1787</td><td>1</td><td>1</td></tr><tr><td>&quot;quizzes&quot;</td><td>1793</td><td>1</td><td>1</td></tr><tr><td>&quot;quizzes&quot;</td><td>1796</td><td>2</td><td>1</td></tr><tr><td>&quot;quizzes&quot;</td><td>1799</td><td>2</td><td>2</td></tr><tr><td>&hellip;</td><td>&hellip;</td><td>&hellip;</td><td>&hellip;</td></tr><tr><td>&quot;QuiZ&quot;</td><td>2004</td><td>18</td><td>4</td></tr><tr><td>&quot;QuiZ&quot;</td><td>2005</td><td>7</td><td>3</td></tr><tr><td>&quot;QuiZ&quot;</td><td>2006</td><td>46</td><td>4</td></tr><tr><td>&quot;QuiZ&quot;</td><td>2007</td><td>12</td><td>4</td></tr><tr><td>&quot;QuiZ&quot;</td><td>2008</td><td>8</td><td>3</td></tr></tbody></table></div>"
      ],
      "text/plain": [
       "shape: (1_113, 4)\n",
       "┌──────────┬──────────┬──────────┬──────────┐\n",
       "│ column_1 ┆ column_2 ┆ column_3 ┆ column_4 │\n",
       "│ ---      ┆ ---      ┆ ---      ┆ ---      │\n",
       "│ str      ┆ i64      ┆ i64      ┆ i64      │\n",
       "╞══════════╪══════════╪══════════╪══════════╡\n",
       "│ quizzes  ┆ 1515     ┆ 1        ┆ 1        │\n",
       "│ quizzes  ┆ 1787     ┆ 1        ┆ 1        │\n",
       "│ quizzes  ┆ 1793     ┆ 1        ┆ 1        │\n",
       "│ quizzes  ┆ 1796     ┆ 2        ┆ 1        │\n",
       "│ quizzes  ┆ 1799     ┆ 2        ┆ 2        │\n",
       "│ …        ┆ …        ┆ …        ┆ …        │\n",
       "│ QuiZ     ┆ 2004     ┆ 18       ┆ 4        │\n",
       "│ QuiZ     ┆ 2005     ┆ 7        ┆ 3        │\n",
       "│ QuiZ     ┆ 2006     ┆ 46       ┆ 4        │\n",
       "│ QuiZ     ┆ 2007     ┆ 12       ┆ 4        │\n",
       "│ QuiZ     ┆ 2008     ┆ 8        ┆ 3        │\n",
       "└──────────┴──────────┴──────────┴──────────┘"
      ]
     },
     "execution_count": 70,
     "metadata": {},
     "output_type": "execute_result"
    }
   ],
   "source": [
    "result"
   ]
  }
 ],
 "metadata": {
  "kernelspec": {
   "display_name": "google_ngrams",
   "language": "python",
   "name": "python3"
  },
  "language_info": {
   "codemirror_mode": {
    "name": "ipython",
    "version": 3
   },
   "file_extension": ".py",
   "mimetype": "text/x-python",
   "name": "python",
   "nbconvert_exporter": "python",
   "pygments_lexer": "ipython3",
   "version": "3.10.11"
  }
 },
 "nbformat": 4,
 "nbformat_minor": 2
}
